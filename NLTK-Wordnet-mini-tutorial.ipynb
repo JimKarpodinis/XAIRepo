{
 "cells": [
  {
   "cell_type": "markdown",
   "id": "91473d36",
   "metadata": {},
   "source": [
    "# NLTK Wordnet tutorial..."
   ]
  },
  {
   "cell_type": "code",
   "execution_count": 1,
   "id": "92a64ee4",
   "metadata": {},
   "outputs": [],
   "source": [
    "from nltk.corpus import wordnet as wn"
   ]
  },
  {
   "cell_type": "code",
   "execution_count": 2,
   "id": "7a4bad19",
   "metadata": {},
   "outputs": [
    {
     "data": {
      "text/plain": [
       "[Synset('surfboard.n.01'), Synset('surfboard.v.01')]"
      ]
     },
     "execution_count": 2,
     "metadata": {},
     "output_type": "execute_result"
    }
   ],
   "source": [
    "#synset means basically synonymous set...\n",
    "\n",
    "wn.synsets('surfboard')"
   ]
  },
  {
   "cell_type": "markdown",
   "id": "7e6f6316",
   "metadata": {},
   "source": [
    "The output means that it behaves in a context as a noun: n, or verb: v..."
   ]
  },
  {
   "cell_type": "code",
   "execution_count": 3,
   "id": "5f302a7c",
   "metadata": {},
   "outputs": [
    {
     "data": {
      "text/plain": [
       "[Synset('pizza.n.01')]"
      ]
     },
     "execution_count": 3,
     "metadata": {},
     "output_type": "execute_result"
    }
   ],
   "source": [
    "wn.synsets('pizza')"
   ]
  },
  {
   "cell_type": "markdown",
   "id": "a8b873d7",
   "metadata": {},
   "source": [
    "The output here is only one, since only one context exists really for pizza, \n",
    "namely food..."
   ]
  },
  {
   "cell_type": "code",
   "execution_count": 4,
   "id": "693570f7",
   "metadata": {},
   "outputs": [
    {
     "data": {
      "text/plain": [
       "['pizza', 'pizza_pie']"
      ]
     },
     "execution_count": 4,
     "metadata": {},
     "output_type": "execute_result"
    }
   ],
   "source": [
    "#pizza.n.01 is called lemma code name...\n",
    "\n",
    "wn.synset('pizza.n.01').lemma_names()"
   ]
  },
  {
   "cell_type": "markdown",
   "id": "4e378bdf",
   "metadata": {},
   "source": [
    "Other words are more ambiguous..."
   ]
  },
  {
   "cell_type": "code",
   "execution_count": 5,
   "id": "4ed1eee7",
   "metadata": {},
   "outputs": [
    {
     "data": {
      "text/plain": [
       "[Synset('printer.n.01'), Synset('printer.n.02'), Synset('printer.n.03')]"
      ]
     },
     "execution_count": 5,
     "metadata": {},
     "output_type": "execute_result"
    }
   ],
   "source": [
    "wn.synsets('printer')"
   ]
  },
  {
   "cell_type": "code",
   "execution_count": 6,
   "id": "d42eacc5",
   "metadata": {},
   "outputs": [
    {
     "data": {
      "text/plain": [
       "['printer', 'pressman']"
      ]
     },
     "execution_count": 6,
     "metadata": {},
     "output_type": "execute_result"
    }
   ],
   "source": [
    "wn.synset('printer.n.01').lemma_names()"
   ]
  },
  {
   "cell_type": "code",
   "execution_count": 7,
   "id": "ef6351f3",
   "metadata": {},
   "outputs": [
    {
     "data": {
      "text/plain": [
       "['printer']"
      ]
     },
     "execution_count": 7,
     "metadata": {},
     "output_type": "execute_result"
    }
   ],
   "source": [
    "wn.synset('printer.n.02').lemma_names()"
   ]
  },
  {
   "cell_type": "code",
   "execution_count": 8,
   "id": "a253bbaa",
   "metadata": {},
   "outputs": [
    {
     "data": {
      "text/plain": [
       "['printer', 'printing_machine']"
      ]
     },
     "execution_count": 8,
     "metadata": {},
     "output_type": "execute_result"
    }
   ],
   "source": [
    "wn.synset('printer.n.03').lemma_names()"
   ]
  },
  {
   "cell_type": "code",
   "execution_count": 9,
   "id": "f28599d7",
   "metadata": {},
   "outputs": [
    {
     "name": "stdout",
     "output_type": "stream",
     "text": [
      "\tLemma: printer.n.01\n",
      "\tDefinition: someone whose occupation is printing\n",
      "\tExample: []\n",
      "\tLemma: printer.n.02\n",
      "\tDefinition: (computer science) an output device that prints the results of data processing\n",
      "\tExample: []\n",
      "\tLemma: printer.n.03\n",
      "\tDefinition: a machine that prints\n",
      "\tExample: []\n"
     ]
    }
   ],
   "source": [
    "for synset in wn.synsets('printer'):\n",
    "    print(\"\\tLemma: {}\".format(synset.name()))\n",
    "    print(\"\\tDefinition: {}\".format(synset.definition()))\n",
    "    print(\"\\tExample: {}\".format(synset.examples()))\n",
    " "
   ]
  },
  {
   "cell_type": "markdown",
   "id": "d09236c1",
   "metadata": {},
   "source": [
    "# Lexical Relations..."
   ]
  },
  {
   "cell_type": "markdown",
   "id": "d94a3076",
   "metadata": {},
   "source": [
    "Wordnet creates a hierarchy of words, from very general like thing or event to specific like soccer. The two basic relation types for the words are hyponyms and hypernyms.\n",
    "\n",
    "Hyponym — a more specific concept\n",
    "\n",
    "Hypernym — a more general concept"
   ]
  },
  {
   "cell_type": "code",
   "execution_count": 11,
   "id": "d2a9a947",
   "metadata": {},
   "outputs": [],
   "source": [
    "pizza = wn.synset('pizza.n.01')"
   ]
  },
  {
   "cell_type": "code",
   "execution_count": 12,
   "id": "2b6797a7",
   "metadata": {},
   "outputs": [
    {
     "data": {
      "text/plain": [
       "['Sicilian_pizza',\n",
       " 'anchovy_pizza',\n",
       " 'cheese_pizza',\n",
       " 'pepperoni_pizza',\n",
       " 'sausage_pizza']"
      ]
     },
     "execution_count": 12,
     "metadata": {},
     "output_type": "execute_result"
    }
   ],
   "source": [
    "sorted([lemma.name() for synset in pizza.hyponyms() for lemma in synset.lemmas()])"
   ]
  },
  {
   "cell_type": "markdown",
   "id": "8957a8ee",
   "metadata": {},
   "source": [
    "Sicilian_pizza hyponym pizza \n",
    "anchovy_pizza hyponym pizza\n",
    "cheese_pizza hyponym pizza\n",
    "pepperoni_pizza hyponym pizza\n",
    "sausage_pizza hyponym pizza"
   ]
  },
  {
   "cell_type": "code",
   "execution_count": 13,
   "id": "d6fec64c",
   "metadata": {},
   "outputs": [
    {
     "data": {
      "text/plain": [
       "['dish']"
      ]
     },
     "execution_count": 13,
     "metadata": {},
     "output_type": "execute_result"
    }
   ],
   "source": [
    "[lemma.name() for synset in pizza.hypernyms() for lemma in synset.lemmas()]"
   ]
  },
  {
   "cell_type": "code",
   "execution_count": 14,
   "id": "4999b772",
   "metadata": {},
   "outputs": [
    {
     "data": {
      "text/plain": [
       "[Synset('entity.n.01')]"
      ]
     },
     "execution_count": 14,
     "metadata": {},
     "output_type": "execute_result"
    }
   ],
   "source": [
    "#to obtain top hypernym...\n",
    "\n",
    "pizza.root_hypernyms()"
   ]
  },
  {
   "cell_type": "code",
   "execution_count": 20,
   "id": "548eb450",
   "metadata": {},
   "outputs": [
    {
     "data": {
      "text/plain": [
       "[Synset('entity.n.01')]"
      ]
     },
     "execution_count": 20,
     "metadata": {},
     "output_type": "execute_result"
    }
   ],
   "source": [
    "surfboard = wn.synset('surfboard.n.01')\n",
    "surfboard.root_hypernyms()"
   ]
  },
  {
   "cell_type": "markdown",
   "id": "99214ed2",
   "metadata": {},
   "source": [
    "To calculate the hypernym paths from a given word to its root hypernym, we have:"
   ]
  },
  {
   "cell_type": "code",
   "execution_count": 19,
   "id": "9020eebf",
   "metadata": {},
   "outputs": [
    {
     "data": {
      "text/plain": [
       "[[Synset('entity.n.01'),\n",
       "  Synset('physical_entity.n.01'),\n",
       "  Synset('matter.n.03'),\n",
       "  Synset('substance.n.07'),\n",
       "  Synset('food.n.01'),\n",
       "  Synset('nutriment.n.01'),\n",
       "  Synset('dish.n.02'),\n",
       "  Synset('pizza.n.01')]]"
      ]
     },
     "execution_count": 19,
     "metadata": {},
     "output_type": "execute_result"
    }
   ],
   "source": [
    "pizza.hypernym_paths()"
   ]
  },
  {
   "cell_type": "code",
   "execution_count": 21,
   "id": "eb73a5d9",
   "metadata": {},
   "outputs": [
    {
     "data": {
      "text/plain": [
       "[[Synset('entity.n.01'),\n",
       "  Synset('physical_entity.n.01'),\n",
       "  Synset('object.n.01'),\n",
       "  Synset('whole.n.02'),\n",
       "  Synset('artifact.n.01'),\n",
       "  Synset('sheet.n.06'),\n",
       "  Synset('board.n.03'),\n",
       "  Synset('surfboard.n.01')]]"
      ]
     },
     "execution_count": 21,
     "metadata": {},
     "output_type": "execute_result"
    }
   ],
   "source": [
    "surfboard.hypernym_paths()"
   ]
  },
  {
   "cell_type": "code",
   "execution_count": 18,
   "id": "b900de38",
   "metadata": {},
   "outputs": [
    {
     "data": {
      "text/plain": [
       "['entity.n.01',\n",
       " 'physical_entity.n.01',\n",
       " 'matter.n.03',\n",
       " 'substance.n.07',\n",
       " 'food.n.01',\n",
       " 'nutriment.n.01',\n",
       " 'dish.n.02',\n",
       " 'pizza.n.01']"
      ]
     },
     "execution_count": 18,
     "metadata": {},
     "output_type": "execute_result"
    }
   ],
   "source": [
    "[synset.name() for synset in pizza.hypernym_paths()[0]]"
   ]
  },
  {
   "cell_type": "code",
   "execution_count": 28,
   "id": "c96464c5",
   "metadata": {},
   "outputs": [
    {
     "data": {
      "text/plain": [
       "[Synset('physical_entity.n.01')]"
      ]
     },
     "execution_count": 28,
     "metadata": {},
     "output_type": "execute_result"
    }
   ],
   "source": [
    "pizza.lowest_common_hypernyms(surfboard)"
   ]
  },
  {
   "cell_type": "code",
   "execution_count": 36,
   "id": "e3df6b82",
   "metadata": {},
   "outputs": [
    {
     "data": {
      "text/plain": [
       "['food', 'nutrient']"
      ]
     },
     "execution_count": 36,
     "metadata": {},
     "output_type": "execute_result"
    }
   ],
   "source": [
    "wn.synset('food.n.01').lemma_names()"
   ]
  },
  {
   "cell_type": "code",
   "execution_count": 41,
   "id": "66e78b93",
   "metadata": {},
   "outputs": [
    {
     "data": {
      "text/plain": [
       "[Synset('dish.n.01'),\n",
       " Synset('dish.n.02'),\n",
       " Synset('dish.n.03'),\n",
       " Synset('smasher.n.02'),\n",
       " Synset('dish.n.05'),\n",
       " Synset('cup_of_tea.n.01'),\n",
       " Synset('serve.v.06'),\n",
       " Synset('dish.v.02')]"
      ]
     },
     "execution_count": 41,
     "metadata": {},
     "output_type": "execute_result"
    }
   ],
   "source": [
    "wn.synsets('dish')"
   ]
  },
  {
   "cell_type": "code",
   "execution_count": 43,
   "id": "cba64c4d",
   "metadata": {},
   "outputs": [
    {
     "data": {
      "text/plain": [
       "0.07692307692307693"
      ]
     },
     "execution_count": 43,
     "metadata": {},
     "output_type": "execute_result"
    }
   ],
   "source": [
    "pizza.path_similarity(surfboard)"
   ]
  },
  {
   "cell_type": "code",
   "execution_count": 47,
   "id": "1ff2fdaa",
   "metadata": {},
   "outputs": [
    {
     "data": {
      "text/plain": [
       "[Synset('dish.n.01'),\n",
       " Synset('dish.n.02'),\n",
       " Synset('dish.n.03'),\n",
       " Synset('smasher.n.02'),\n",
       " Synset('dish.n.05'),\n",
       " Synset('cup_of_tea.n.01')]"
      ]
     },
     "execution_count": 47,
     "metadata": {},
     "output_type": "execute_result"
    }
   ],
   "source": [
    "wn.synsets('dish', pos='n')"
   ]
  },
  {
   "cell_type": "markdown",
   "id": "68f18099",
   "metadata": {},
   "source": [
    "# Language is arbitrary"
   ]
  },
  {
   "cell_type": "code",
   "execution_count": 48,
   "id": "205e4b5d",
   "metadata": {},
   "outputs": [
    {
     "name": "stdout",
     "output_type": "stream",
     "text": [
      "['dish']\n",
      "['dish']\n",
      "['dish', 'dishful']\n",
      "['smasher', 'stunner', 'knockout', 'beauty', 'ravisher', 'sweetheart', 'peach', 'lulu', 'looker', 'mantrap', 'dish']\n",
      "['dish', 'dish_aerial', 'dish_antenna', 'saucer']\n",
      "['cup_of_tea', 'bag', 'dish']\n"
     ]
    }
   ],
   "source": [
    "for dish in wn.synsets('dish', pos='n'):\n",
    "    print(dish.lemma_names())"
   ]
  },
  {
   "cell_type": "code",
   "execution_count": 50,
   "id": "0032c823",
   "metadata": {},
   "outputs": [
    {
     "name": "stdout",
     "output_type": "stream",
     "text": [
      "['food', 'nutrient']\n",
      "['food', 'solid_food']\n",
      "['food', 'food_for_thought', 'intellectual_nourishment']\n"
     ]
    }
   ],
   "source": [
    "for food in wn.synsets('food', pos='n'):\n",
    "    print(food.lemma_names())"
   ]
  },
  {
   "cell_type": "code",
   "execution_count": 51,
   "id": "e9932c65",
   "metadata": {},
   "outputs": [
    {
     "name": "stdout",
     "output_type": "stream",
     "text": [
      "['sheet']\n",
      "['sheet', 'piece_of_paper', 'sheet_of_paper']\n",
      "['sheet', 'bed_sheet']\n",
      "['plane', 'sheet']\n",
      "['tabloid', 'rag', 'sheet']\n",
      "['sheet', 'flat_solid']\n",
      "['sheet', 'tack', 'mainsheet', 'weather_sheet', 'shroud']\n",
      "['sail', 'canvas', 'canvass', 'sheet']\n"
     ]
    }
   ],
   "source": [
    "for sheet in wn.synsets('sheet', pos='n'):\n",
    "    print(sheet.lemma_names())"
   ]
  },
  {
   "cell_type": "markdown",
   "id": "956c87f5",
   "metadata": {},
   "source": [
    "Someone who surfs with a surfboard is ... a person!!!\n",
    "\n"
   ]
  },
  {
   "cell_type": "code",
   "execution_count": 56,
   "id": "5836369e",
   "metadata": {},
   "outputs": [
    {
     "data": {
      "text/plain": [
       "[Synset('person.n.01'), Synset('person.n.02'), Synset('person.n.03')]"
      ]
     },
     "execution_count": 56,
     "metadata": {},
     "output_type": "execute_result"
    }
   ],
   "source": [
    "person = wn.synsets('person', pos='n')\n",
    "person"
   ]
  },
  {
   "cell_type": "markdown",
   "id": "2eb1da3f",
   "metadata": {},
   "source": [
    "A person has multiple senses and paths!!!"
   ]
  },
  {
   "cell_type": "code",
   "execution_count": 58,
   "id": "e771214e",
   "metadata": {},
   "outputs": [
    {
     "data": {
      "text/plain": [
       "[[[Synset('entity.n.01'),\n",
       "   Synset('physical_entity.n.01'),\n",
       "   Synset('causal_agent.n.01'),\n",
       "   Synset('person.n.01')],\n",
       "  [Synset('entity.n.01'),\n",
       "   Synset('physical_entity.n.01'),\n",
       "   Synset('object.n.01'),\n",
       "   Synset('whole.n.02'),\n",
       "   Synset('living_thing.n.01'),\n",
       "   Synset('organism.n.01'),\n",
       "   Synset('person.n.01')]],\n",
       " [[Synset('entity.n.01'),\n",
       "   Synset('physical_entity.n.01'),\n",
       "   Synset('object.n.01'),\n",
       "   Synset('whole.n.02'),\n",
       "   Synset('natural_object.n.01'),\n",
       "   Synset('body.n.01'),\n",
       "   Synset('human_body.n.01'),\n",
       "   Synset('person.n.02')]],\n",
       " [[Synset('entity.n.01'),\n",
       "   Synset('abstraction.n.06'),\n",
       "   Synset('group.n.01'),\n",
       "   Synset('collection.n.01'),\n",
       "   Synset('class.n.01'),\n",
       "   Synset('grammatical_category.n.01'),\n",
       "   Synset('person.n.03')]]]"
      ]
     },
     "execution_count": 58,
     "metadata": {},
     "output_type": "execute_result"
    }
   ],
   "source": [
    "[person_sense.hypernym_paths() for person_sense in person]"
   ]
  },
  {
   "cell_type": "markdown",
   "id": "95fe5a29",
   "metadata": {},
   "source": [
    "Another example is dining table. This has the following problem!!!"
   ]
  },
  {
   "cell_type": "code",
   "execution_count": 62,
   "id": "4088217a",
   "metadata": {},
   "outputs": [
    {
     "data": {
      "text/plain": [
       "[]"
      ]
     },
     "execution_count": 62,
     "metadata": {},
     "output_type": "execute_result"
    }
   ],
   "source": [
    "dining_table = wn.synsets('dining table', pos='n')\n",
    "dining_table"
   ]
  },
  {
   "cell_type": "code",
   "execution_count": 63,
   "id": "735d8f92",
   "metadata": {},
   "outputs": [
    {
     "data": {
      "text/plain": [
       "[Synset('dining_table.n.01')]"
      ]
     },
     "execution_count": 63,
     "metadata": {},
     "output_type": "execute_result"
    }
   ],
   "source": [
    "dining_table = wn.synsets('dining_table', pos='n')\n",
    "dining_table"
   ]
  },
  {
   "cell_type": "code",
   "execution_count": 64,
   "id": "49b4e897",
   "metadata": {},
   "outputs": [
    {
     "data": {
      "text/plain": [
       "[[[Synset('entity.n.01'),\n",
       "   Synset('physical_entity.n.01'),\n",
       "   Synset('object.n.01'),\n",
       "   Synset('whole.n.02'),\n",
       "   Synset('artifact.n.01'),\n",
       "   Synset('instrumentality.n.03'),\n",
       "   Synset('furnishing.n.02'),\n",
       "   Synset('furniture.n.01'),\n",
       "   Synset('table.n.03'),\n",
       "   Synset('dining_table.n.01')]]]"
      ]
     },
     "execution_count": 64,
     "metadata": {},
     "output_type": "execute_result"
    }
   ],
   "source": [
    "[sense.hypernym_paths() for sense in dining_table]"
   ]
  },
  {
   "cell_type": "markdown",
   "id": "5d35f2bf",
   "metadata": {},
   "source": [
    "Therefore dining table |--> dining_table"
   ]
  },
  {
   "cell_type": "code",
   "execution_count": 65,
   "id": "76bc7f57",
   "metadata": {},
   "outputs": [
    {
     "data": {
      "text/plain": [
       "[]"
      ]
     },
     "execution_count": 65,
     "metadata": {},
     "output_type": "execute_result"
    }
   ],
   "source": [
    "wine_glass = wn.synsets('wine glass', pos='n')\n",
    "wine_glass"
   ]
  },
  {
   "cell_type": "code",
   "execution_count": 75,
   "id": "d5ca95ba",
   "metadata": {},
   "outputs": [
    {
     "data": {
      "text/plain": [
       "[]"
      ]
     },
     "execution_count": 75,
     "metadata": {},
     "output_type": "execute_result"
    }
   ],
   "source": [
    "wine_glass = wn.synsets('wine_glass', pos='n')\n",
    "wine_glass"
   ]
  },
  {
   "cell_type": "markdown",
   "id": "ce6b73e0",
   "metadata": {},
   "source": [
    "Has neither!!! But...."
   ]
  },
  {
   "cell_type": "code",
   "execution_count": 76,
   "id": "a6fabd21",
   "metadata": {},
   "outputs": [
    {
     "data": {
      "text/plain": [
       "[Synset('wineglass.n.01')]"
      ]
     },
     "execution_count": 76,
     "metadata": {},
     "output_type": "execute_result"
    }
   ],
   "source": [
    "wine_glass = wn.synsets('wineglass', pos='n')\n",
    "wine_glass"
   ]
  },
  {
   "cell_type": "code",
   "execution_count": 77,
   "id": "2a92b891",
   "metadata": {},
   "outputs": [
    {
     "data": {
      "text/plain": [
       "[[[Synset('entity.n.01'),\n",
       "   Synset('physical_entity.n.01'),\n",
       "   Synset('object.n.01'),\n",
       "   Synset('whole.n.02'),\n",
       "   Synset('artifact.n.01'),\n",
       "   Synset('instrumentality.n.03'),\n",
       "   Synset('container.n.01'),\n",
       "   Synset('glass.n.02'),\n",
       "   Synset('wineglass.n.01')]]]"
      ]
     },
     "execution_count": 77,
     "metadata": {},
     "output_type": "execute_result"
    }
   ],
   "source": [
    "[sense.hypernym_paths() for sense in wine_glass]"
   ]
  },
  {
   "cell_type": "code",
   "execution_count": 67,
   "id": "9e21fd27",
   "metadata": {},
   "outputs": [
    {
     "data": {
      "text/plain": [
       "[Synset('wine.n.01'), Synset('wine.n.02')]"
      ]
     },
     "execution_count": 67,
     "metadata": {},
     "output_type": "execute_result"
    }
   ],
   "source": [
    "wine = wn.synsets('wine', pos='n')\n",
    "wine"
   ]
  },
  {
   "cell_type": "code",
   "execution_count": 68,
   "id": "330a55d4",
   "metadata": {},
   "outputs": [
    {
     "data": {
      "text/plain": [
       "[[[Synset('entity.n.01'),\n",
       "   Synset('physical_entity.n.01'),\n",
       "   Synset('matter.n.03'),\n",
       "   Synset('substance.n.07'),\n",
       "   Synset('food.n.01'),\n",
       "   Synset('beverage.n.01'),\n",
       "   Synset('alcohol.n.01'),\n",
       "   Synset('wine.n.01')],\n",
       "  [Synset('entity.n.01'),\n",
       "   Synset('physical_entity.n.01'),\n",
       "   Synset('matter.n.03'),\n",
       "   Synset('substance.n.01'),\n",
       "   Synset('fluid.n.01'),\n",
       "   Synset('liquid.n.01'),\n",
       "   Synset('beverage.n.01'),\n",
       "   Synset('alcohol.n.01'),\n",
       "   Synset('wine.n.01')],\n",
       "  [Synset('entity.n.01'),\n",
       "   Synset('abstraction.n.06'),\n",
       "   Synset('relation.n.01'),\n",
       "   Synset('part.n.01'),\n",
       "   Synset('substance.n.01'),\n",
       "   Synset('fluid.n.01'),\n",
       "   Synset('liquid.n.01'),\n",
       "   Synset('beverage.n.01'),\n",
       "   Synset('alcohol.n.01'),\n",
       "   Synset('wine.n.01')],\n",
       "  [Synset('entity.n.01'),\n",
       "   Synset('physical_entity.n.01'),\n",
       "   Synset('causal_agent.n.01'),\n",
       "   Synset('agent.n.03'),\n",
       "   Synset('drug.n.01'),\n",
       "   Synset('drug_of_abuse.n.01'),\n",
       "   Synset('alcohol.n.01'),\n",
       "   Synset('wine.n.01')],\n",
       "  [Synset('entity.n.01'),\n",
       "   Synset('physical_entity.n.01'),\n",
       "   Synset('matter.n.03'),\n",
       "   Synset('substance.n.07'),\n",
       "   Synset('agent.n.03'),\n",
       "   Synset('drug.n.01'),\n",
       "   Synset('drug_of_abuse.n.01'),\n",
       "   Synset('alcohol.n.01'),\n",
       "   Synset('wine.n.01')]],\n",
       " [[Synset('entity.n.01'),\n",
       "   Synset('abstraction.n.06'),\n",
       "   Synset('attribute.n.02'),\n",
       "   Synset('property.n.02'),\n",
       "   Synset('visual_property.n.01'),\n",
       "   Synset('color.n.01'),\n",
       "   Synset('chromatic_color.n.01'),\n",
       "   Synset('red.n.01'),\n",
       "   Synset('dark_red.n.01'),\n",
       "   Synset('wine.n.02')]]]"
      ]
     },
     "execution_count": 68,
     "metadata": {},
     "output_type": "execute_result"
    }
   ],
   "source": [
    "[sense.hypernym_paths() for sense in wine]"
   ]
  },
  {
   "cell_type": "code",
   "execution_count": 69,
   "id": "fc83e102",
   "metadata": {},
   "outputs": [
    {
     "data": {
      "text/plain": [
       "[]"
      ]
     },
     "execution_count": 69,
     "metadata": {},
     "output_type": "execute_result"
    }
   ],
   "source": [
    "hot_dog = wn.synsets('hot dog', pos='n')\n",
    "hot_dog"
   ]
  },
  {
   "cell_type": "code",
   "execution_count": 72,
   "id": "6f4de573",
   "metadata": {},
   "outputs": [
    {
     "data": {
      "text/plain": [
       "[Synset('hotdog.n.01'), Synset('hotdog.n.02'), Synset('frank.n.02')]"
      ]
     },
     "execution_count": 72,
     "metadata": {},
     "output_type": "execute_result"
    }
   ],
   "source": [
    "hot_dog = wn.synsets('hot_dog', pos='n')\n",
    "hot_dog"
   ]
  },
  {
   "cell_type": "code",
   "execution_count": 73,
   "id": "bb76ecec",
   "metadata": {},
   "outputs": [
    {
     "data": {
      "text/plain": [
       "[[[Synset('entity.n.01'),\n",
       "   Synset('physical_entity.n.01'),\n",
       "   Synset('causal_agent.n.01'),\n",
       "   Synset('person.n.01'),\n",
       "   Synset('unwelcome_person.n.01'),\n",
       "   Synset('unpleasant_person.n.01'),\n",
       "   Synset('egotist.n.01'),\n",
       "   Synset('exhibitionist.n.02'),\n",
       "   Synset('hotdog.n.01')],\n",
       "  [Synset('entity.n.01'),\n",
       "   Synset('physical_entity.n.01'),\n",
       "   Synset('object.n.01'),\n",
       "   Synset('whole.n.02'),\n",
       "   Synset('living_thing.n.01'),\n",
       "   Synset('organism.n.01'),\n",
       "   Synset('person.n.01'),\n",
       "   Synset('unwelcome_person.n.01'),\n",
       "   Synset('unpleasant_person.n.01'),\n",
       "   Synset('egotist.n.01'),\n",
       "   Synset('exhibitionist.n.02'),\n",
       "   Synset('hotdog.n.01')]],\n",
       " [[Synset('entity.n.01'),\n",
       "   Synset('physical_entity.n.01'),\n",
       "   Synset('matter.n.03'),\n",
       "   Synset('substance.n.07'),\n",
       "   Synset('food.n.01'),\n",
       "   Synset('nutriment.n.01'),\n",
       "   Synset('dish.n.02'),\n",
       "   Synset('snack_food.n.01'),\n",
       "   Synset('sandwich.n.01'),\n",
       "   Synset('hotdog.n.02')]],\n",
       " [[Synset('entity.n.01'),\n",
       "   Synset('physical_entity.n.01'),\n",
       "   Synset('matter.n.03'),\n",
       "   Synset('solid.n.01'),\n",
       "   Synset('food.n.02'),\n",
       "   Synset('meat.n.01'),\n",
       "   Synset('sausage.n.01'),\n",
       "   Synset('frank.n.02')]]]"
      ]
     },
     "execution_count": 73,
     "metadata": {},
     "output_type": "execute_result"
    }
   ],
   "source": [
    "[sense.hypernym_paths() for sense in hot_dog]"
   ]
  },
  {
   "cell_type": "code",
   "execution_count": 78,
   "id": "e5831db4",
   "metadata": {},
   "outputs": [
    {
     "data": {
      "text/plain": [
       "[]"
      ]
     },
     "execution_count": 78,
     "metadata": {},
     "output_type": "execute_result"
    }
   ],
   "source": [
    "sports_ball = wn.synsets('sports ball', pos='n')\n",
    "sports_ball"
   ]
  },
  {
   "cell_type": "code",
   "execution_count": 79,
   "id": "99747c69",
   "metadata": {},
   "outputs": [
    {
     "data": {
      "text/plain": [
       "[]"
      ]
     },
     "execution_count": 79,
     "metadata": {},
     "output_type": "execute_result"
    }
   ],
   "source": [
    "sports_ball = wn.synsets('sports_ball', pos='n')\n",
    "sports_ball"
   ]
  },
  {
   "cell_type": "code",
   "execution_count": 80,
   "id": "fca7b416",
   "metadata": {},
   "outputs": [
    {
     "data": {
      "text/plain": [
       "[]"
      ]
     },
     "execution_count": 80,
     "metadata": {},
     "output_type": "execute_result"
    }
   ],
   "source": [
    "sports_ball = wn.synsets('sportsball', pos='n')\n",
    "sports_ball"
   ]
  },
  {
   "cell_type": "markdown",
   "id": "39c496b7",
   "metadata": {},
   "source": [
    "NONE"
   ]
  },
  {
   "cell_type": "code",
   "execution_count": 83,
   "id": "3c4c7a49",
   "metadata": {},
   "outputs": [
    {
     "data": {
      "text/plain": [
       "[Synset('ball.n.01'),\n",
       " Synset('musket_ball.n.01'),\n",
       " Synset('ball.n.03'),\n",
       " Synset('ball.n.04'),\n",
       " Synset('testis.n.01'),\n",
       " Synset('ball.n.06'),\n",
       " Synset('ball.n.07'),\n",
       " Synset('ball.n.08'),\n",
       " Synset('ball.n.09'),\n",
       " Synset('ball.n.10'),\n",
       " Synset('ball.n.11'),\n",
       " Synset('ball.n.12')]"
      ]
     },
     "execution_count": 83,
     "metadata": {},
     "output_type": "execute_result"
    }
   ],
   "source": [
    "sports_ball = wn.synsets('ball', pos='n')\n",
    "sports_ball"
   ]
  },
  {
   "cell_type": "markdown",
   "id": "f12bc6a6",
   "metadata": {},
   "source": [
    "Ideas......."
   ]
  },
  {
   "cell_type": "code",
   "execution_count": 93,
   "id": "2ba16fd0",
   "metadata": {},
   "outputs": [
    {
     "data": {
      "text/plain": [
       "[['entity'],\n",
       " ['physical_entity'],\n",
       " ['object', 'physical_object'],\n",
       " ['whole', 'unit'],\n",
       " ['artifact', 'artefact'],\n",
       " ['instrumentality', 'instrumentation'],\n",
       " ['container'],\n",
       " ['glass', 'drinking_glass'],\n",
       " ['wineglass']]"
      ]
     },
     "execution_count": 93,
     "metadata": {},
     "output_type": "execute_result"
    }
   ],
   "source": [
    "[word.lemma_names() for sense in wine_glass for words in sense.hypernym_paths() for word in words]"
   ]
  },
  {
   "cell_type": "code",
   "execution_count": 94,
   "id": "c324e819",
   "metadata": {},
   "outputs": [
    {
     "data": {
      "text/plain": [
       "[]"
      ]
     },
     "execution_count": 94,
     "metadata": {},
     "output_type": "execute_result"
    }
   ],
   "source": [
    "cell_phone = wn.synsets('cell phone', pos='n')\n",
    "cell_phone"
   ]
  },
  {
   "cell_type": "code",
   "execution_count": 95,
   "id": "12c72b22",
   "metadata": {},
   "outputs": [
    {
     "data": {
      "text/plain": [
       "[]"
      ]
     },
     "execution_count": 95,
     "metadata": {},
     "output_type": "execute_result"
    }
   ],
   "source": [
    "cell_phone = wn.synsets('cell_phone', pos='n')\n",
    "cell_phone"
   ]
  },
  {
   "cell_type": "code",
   "execution_count": 96,
   "id": "8afa738f",
   "metadata": {},
   "outputs": [
    {
     "data": {
      "text/plain": [
       "[Synset('cellular_telephone.n.01')]"
      ]
     },
     "execution_count": 96,
     "metadata": {},
     "output_type": "execute_result"
    }
   ],
   "source": [
    "cell_phone = wn.synsets('cellphone', pos='n')\n",
    "cell_phone"
   ]
  },
  {
   "cell_type": "code",
   "execution_count": 97,
   "id": "a884dc45",
   "metadata": {},
   "outputs": [
    {
     "data": {
      "text/plain": [
       "[[[Synset('entity.n.01'),\n",
       "   Synset('physical_entity.n.01'),\n",
       "   Synset('object.n.01'),\n",
       "   Synset('whole.n.02'),\n",
       "   Synset('artifact.n.01'),\n",
       "   Synset('instrumentality.n.03'),\n",
       "   Synset('equipment.n.01'),\n",
       "   Synset('electronic_equipment.n.01'),\n",
       "   Synset('telephone.n.01'),\n",
       "   Synset('radiotelephone.n.02'),\n",
       "   Synset('cellular_telephone.n.01')]]]"
      ]
     },
     "execution_count": 97,
     "metadata": {},
     "output_type": "execute_result"
    }
   ],
   "source": [
    "[sense.hypernym_paths() for sense in cell_phone]"
   ]
  },
  {
   "cell_type": "code",
   "execution_count": 98,
   "id": "17b501aa",
   "metadata": {},
   "outputs": [
    {
     "data": {
      "text/plain": [
       "[]"
      ]
     },
     "execution_count": 98,
     "metadata": {},
     "output_type": "execute_result"
    }
   ],
   "source": [
    "potted_plant = wn.synsets('potted plant', pos='n')\n",
    "potted_plant"
   ]
  },
  {
   "cell_type": "code",
   "execution_count": 99,
   "id": "4b58a5e2",
   "metadata": {},
   "outputs": [
    {
     "data": {
      "text/plain": [
       "[]"
      ]
     },
     "execution_count": 99,
     "metadata": {},
     "output_type": "execute_result"
    }
   ],
   "source": [
    "potted_plant = wn.synsets('potted_plant', pos='n')\n",
    "potted_plant"
   ]
  },
  {
   "cell_type": "code",
   "execution_count": 100,
   "id": "1423ef4b",
   "metadata": {},
   "outputs": [
    {
     "data": {
      "text/plain": [
       "[]"
      ]
     },
     "execution_count": 100,
     "metadata": {},
     "output_type": "execute_result"
    }
   ],
   "source": [
    "potted_plant = wn.synsets('pottedplant', pos='n')\n",
    "potted_plant"
   ]
  },
  {
   "cell_type": "code",
   "execution_count": 101,
   "id": "143411ec",
   "metadata": {},
   "outputs": [
    {
     "data": {
      "text/plain": [
       "[Synset('plant.n.01'),\n",
       " Synset('plant.n.02'),\n",
       " Synset('plant.n.03'),\n",
       " Synset('plant.n.04')]"
      ]
     },
     "execution_count": 101,
     "metadata": {},
     "output_type": "execute_result"
    }
   ],
   "source": [
    "potted_plant = wn.synsets('plant', pos='n')\n",
    "potted_plant"
   ]
  },
  {
   "cell_type": "code",
   "execution_count": null,
   "id": "27bfd678",
   "metadata": {},
   "outputs": [],
   "source": []
  },
  {
   "cell_type": "code",
   "execution_count": null,
   "id": "3f9b3c04",
   "metadata": {},
   "outputs": [],
   "source": []
  }
 ],
 "metadata": {
  "kernelspec": {
   "display_name": "Python 3 (ipykernel)",
   "language": "python",
   "name": "python3"
  },
  "language_info": {
   "codemirror_mode": {
    "name": "ipython",
    "version": 3
   },
   "file_extension": ".py",
   "mimetype": "text/x-python",
   "name": "python",
   "nbconvert_exporter": "python",
   "pygments_lexer": "ipython3",
   "version": "3.10.4"
  }
 },
 "nbformat": 4,
 "nbformat_minor": 5
}
